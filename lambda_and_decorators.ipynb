{
  "cells": [
    {
      "cell_type": "markdown",
      "metadata": {
        "id": "view-in-github",
        "colab_type": "text"
      },
      "source": [
        "<a href=\"https://colab.research.google.com/github/eggarcia98/python_course_05/blob/main/lambda_and_decorators.ipynb\" target=\"_parent\"><img src=\"https://colab.research.google.com/assets/colab-badge.svg\" alt=\"Open In Colab\"/></a>"
      ]
    },
    {
      "cell_type": "markdown",
      "metadata": {
        "id": "dDM__JGAC_kH"
      },
      "source": [
        "Create a decorator called timer that measures the time taken by a function to execute and prints the result. Apply this decorator to a function add_numbers that takes two arguments and returns their sum. Test the decorator by calling add_numbers(5, 7)."
      ]
    },
    {
      "cell_type": "code",
      "execution_count": null,
      "metadata": {
        "id": "_dceQQDPC_kL"
      },
      "outputs": [],
      "source": []
    },
    {
      "cell_type": "markdown",
      "metadata": {
        "id": "eoH2TDcfC_kN"
      },
      "source": [
        "Create a decorator called logger that logs the arguments passed to a function before executing it. Apply this decorator to a function multiply_numbers that takes two arguments and returns their product. Test the decorator by calling multiply_numbers(3, 4)."
      ]
    },
    {
      "cell_type": "code",
      "execution_count": null,
      "metadata": {
        "id": "g5rbjLkbC_kP"
      },
      "outputs": [],
      "source": []
    },
    {
      "cell_type": "markdown",
      "metadata": {
        "id": "neFKP4Y-C_kQ"
      },
      "source": [
        "Create a decorator called cache that caches the results of a function for a given set of arguments. Apply this decorator to a function fibonacci that calculates the Fibonacci sequence recursively. Test the decorator by calling fibonacci(10) twice and observe the difference in execution time."
      ]
    },
    {
      "cell_type": "code",
      "execution_count": null,
      "metadata": {
        "id": "Nib8cuFNC_kT"
      },
      "outputs": [],
      "source": []
    },
    {
      "cell_type": "markdown",
      "metadata": {
        "id": "UWdmhPwdC_kV"
      },
      "source": [
        "Write a lambda function that takes a dictionary as an argument and returns the keys of the dictionary sorted in alphabetical order. Test the lambda function by calling it with the dictionary {\"c\": 3, \"a\": 1, \"b\": 2}."
      ]
    },
    {
      "cell_type": "code",
      "execution_count": null,
      "metadata": {
        "id": "kciQKM_nC_kW"
      },
      "outputs": [],
      "source": []
    },
    {
      "cell_type": "markdown",
      "metadata": {
        "id": "3tsE0RdqC_kY"
      },
      "source": [
        "Write a lambda function that takes a list of strings as an argument and returns a new list with the strings capitalized. Test the lambda function by calling it with the list [\"apple\", \"banana\", \"cherry\"]."
      ]
    },
    {
      "cell_type": "code",
      "execution_count": null,
      "metadata": {
        "id": "0Gi3Sz1DC_kZ"
      },
      "outputs": [],
      "source": []
    },
    {
      "cell_type": "markdown",
      "metadata": {
        "id": "quXiG5ZpC_kZ"
      },
      "source": [
        "Write a lambda function that takes a list of tuples as an argument, where each tuple contains a name and an age. Return the name of the oldest person from the list. Test the lambda function by calling it with the list [(\"Alice\", 25), (\"Bob\", 30), (\"Charlie\", 20)]."
      ]
    },
    {
      "cell_type": "code",
      "execution_count": null,
      "metadata": {
        "id": "GQ_KSRO0C_ka"
      },
      "outputs": [],
      "source": []
    }
  ],
  "metadata": {
    "language_info": {
      "name": "python"
    },
    "orig_nbformat": 4,
    "colab": {
      "provenance": [],
      "include_colab_link": true
    }
  },
  "nbformat": 4,
  "nbformat_minor": 0
}