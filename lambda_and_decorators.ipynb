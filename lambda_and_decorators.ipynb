{
  "cells": [
    {
      "cell_type": "markdown",
      "metadata": {
        "colab_type": "text",
        "id": "view-in-github"
      },
      "source": [
        "<a href=\"https://colab.research.google.com/github/eggarcia98/python_course_05/blob/main/lambda_and_decorators.ipynb\" target=\"_parent\"><img src=\"https://colab.research.google.com/assets/colab-badge.svg\" alt=\"Open In Colab\"/></a>"
      ]
    },
    {
      "cell_type": "markdown",
      "metadata": {
        "id": "dDM__JGAC_kH"
      },
      "source": [
        "Create a decorator called timer that measures the time taken by a function to execute and prints the result. Apply this decorator to a function add_numbers that takes two arguments and returns their sum. Test the decorator by calling add_numbers(5, 7)."
      ]
    },
    {
      "cell_type": "code",
      "execution_count": 38,
      "metadata": {
        "id": "_dceQQDPC_kL"
      },
      "outputs": [
        {
          "name": "stdout",
          "output_type": "stream",
          "text": [
            "Time taken was: 1.9073486328125e-06 secods\n",
            "The sum is: 7\n"
          ]
        }
      ],
      "source": [
        "import time\n",
        "\n",
        "def timer(fn):\n",
        "    def wrapper(*args, **kwargs):\n",
        "        start_time = time.time()\n",
        "        result = fn(*args, **kwargs)\n",
        "        end_time = time.time()\n",
        "        print(f\"Time taken was: {end_time - start_time} secods\")\n",
        "        return result\n",
        "    return wrapper\n",
        "\n",
        "@timer\n",
        "def add_numbers(n1, n2):\n",
        "    return n1 + n2\n",
        "\n",
        "\n",
        "sum_of_numbers = add_numbers(4, 3)\n",
        "print(f\"The sum is: {sum_of_numbers}\")"
      ]
    },
    {
      "cell_type": "markdown",
      "metadata": {
        "id": "eoH2TDcfC_kN"
      },
      "source": [
        "Create a decorator called logger that logs the arguments passed to a function before executing it. Apply this decorator to a function multiply_numbers that takes two arguments and returns their product. Test the decorator by calling multiply_numbers(3, 4)."
      ]
    },
    {
      "cell_type": "code",
      "execution_count": 52,
      "metadata": {
        "id": "g5rbjLkbC_kP"
      },
      "outputs": [
        {
          "name": "stdout",
          "output_type": "stream",
          "text": [
            "The argument of function are: (3, 4)\n"
          ]
        },
        {
          "data": {
            "text/plain": [
              "12"
            ]
          },
          "execution_count": 52,
          "metadata": {},
          "output_type": "execute_result"
        }
      ],
      "source": [
        "def logger(fn):\n",
        "    def wrapper(*args, **kwargs):\n",
        "        print(f\"The argument of function are: {args}\")\n",
        "        result = fn(*args, **kwargs)\n",
        "        return result\n",
        "    return wrapper\n",
        "\n",
        "@logger\n",
        "def multiply_numbers(a, b):\n",
        "    return a * b\n",
        "\n",
        "multiply_numbers(3, 4)"
      ]
    },
    {
      "cell_type": "markdown",
      "metadata": {
        "id": "neFKP4Y-C_kQ"
      },
      "source": [
        "Create a decorator called cache that caches the results of a function for a given set of arguments. Apply this decorator to a function fibonacci that calculates the Fibonacci sequence recursively. Test the decorator by calling fibonacci(10) twice and observe the difference in execution time."
      ]
    },
    {
      "cell_type": "code",
      "execution_count": null,
      "metadata": {
        "id": "Nib8cuFNC_kT"
      },
      "outputs": [],
      "source": []
    },
    {
      "cell_type": "markdown",
      "metadata": {
        "id": "UWdmhPwdC_kV"
      },
      "source": [
        "Write a lambda function that takes a dictionary as an argument and returns the keys of the dictionary sorted in alphabetical order. Test the lambda function by calling it with the dictionary {\"c\": 3, \"a\": 1, \"b\": 2}."
      ]
    },
    {
      "cell_type": "code",
      "execution_count": null,
      "metadata": {
        "id": "kciQKM_nC_kW"
      },
      "outputs": [],
      "source": []
    },
    {
      "cell_type": "markdown",
      "metadata": {
        "id": "3tsE0RdqC_kY"
      },
      "source": [
        "Write a lambda function that takes a list of strings as an argument and returns a new list with the strings capitalized. Test the lambda function by calling it with the list [\"apple\", \"banana\", \"cherry\"]."
      ]
    },
    {
      "cell_type": "code",
      "execution_count": null,
      "metadata": {
        "id": "0Gi3Sz1DC_kZ"
      },
      "outputs": [],
      "source": []
    },
    {
      "cell_type": "markdown",
      "metadata": {
        "id": "quXiG5ZpC_kZ"
      },
      "source": [
        "Write a lambda function that takes a list of tuples as an argument, where each tuple contains a name and an age. Return the name of the oldest person from the list. Test the lambda function by calling it with the list [(\"Alice\", 25), (\"Bob\", 30), (\"Charlie\", 20)]."
      ]
    },
    {
      "cell_type": "code",
      "execution_count": null,
      "metadata": {
        "id": "GQ_KSRO0C_ka"
      },
      "outputs": [],
      "source": []
    }
  ],
  "metadata": {
    "colab": {
      "include_colab_link": true,
      "provenance": []
    },
    "kernelspec": {
      "display_name": "Python 3",
      "language": "python",
      "name": "python3"
    },
    "language_info": {
      "codemirror_mode": {
        "name": "ipython",
        "version": 3
      },
      "file_extension": ".py",
      "mimetype": "text/x-python",
      "name": "python",
      "nbconvert_exporter": "python",
      "pygments_lexer": "ipython3",
      "version": "3.10.6"
    },
    "orig_nbformat": 4
  },
  "nbformat": 4,
  "nbformat_minor": 0
}
