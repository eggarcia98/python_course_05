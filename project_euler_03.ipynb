{
  "cells": [
    {
      "cell_type": "markdown",
      "metadata": {
        "id": "view-in-github",
        "colab_type": "text"
      },
      "source": [
        "<a href=\"https://colab.research.google.com/github/eggarcia98/python_course_05/blob/main/project_euler_03.ipynb\" target=\"_parent\"><img src=\"https://colab.research.google.com/assets/colab-badge.svg\" alt=\"Open In Colab\"/></a>"
      ]
    },
    {
      "cell_type": "markdown",
      "metadata": {
        "id": "XHPx1XtxRGUS"
      },
      "source": [
        "1.\n",
        "\n",
        "In the United Kingdom the currency is made up of pound (£) and pence (p). There are eight coins in general circulation:\n",
        "\n",
        "    1p, 2p, 5p, 10p, 20p, 50p, £1 (100p), and £2 (200p).\n",
        "\n",
        "It is possible to make £2 in the following way:\n",
        "\n",
        "    1×£1 + 1×50p + 2×20p + 1×5p + 1×2p + 3×1p\n",
        "\n",
        "How many different ways can £2 be made using any number of coins?\n"
      ]
    },
    {
      "cell_type": "code",
      "execution_count": null,
      "metadata": {
        "id": "9YeDbaNRRGUX"
      },
      "outputs": [],
      "source": []
    },
    {
      "cell_type": "markdown",
      "metadata": {
        "id": "xd2ll-4BRGUZ"
      },
      "source": [
        "2.\n",
        "\n",
        "We shall say that an n-digit number is pandigital if it makes use of all the digits 1 to n exactly once; for example, the 5-digit number, 15234, is 1 through 5 pandigital.\n",
        "\n",
        "The product 7254 is unusual, as the identity, 39 × 186 = 7254, containing multiplicand, multiplier, and product is 1 through 9 pandigital.\n",
        "\n",
        "Find the sum of all products whose multiplicand/multiplier/product identity can be written as a 1 through 9 pandigital.\n",
        "HINT: Some products can be obtained in more than one way so be sure to only include it once in your sum.\n"
      ]
    },
    {
      "cell_type": "code",
      "execution_count": null,
      "metadata": {
        "id": "tvfk6Ce4RGUa"
      },
      "outputs": [],
      "source": []
    },
    {
      "cell_type": "markdown",
      "metadata": {
        "id": "_e3TDbCVRGUb"
      },
      "source": [
        "3.\n",
        "\n",
        "The fraction 49/98 is a curious fraction, as an inexperienced mathematician in attempting to simplify it may incorrectly believe that 49/98 = 4/8, which is correct, is obtained by cancelling the 9s.\n",
        "\n",
        "We shall consider fractions like, 30/50 = 3/5, to be trivial examples.\n",
        "\n",
        "There are exactly four non-trivial examples of this type of fraction, less than one in value, and containing two digits in the numerator and denominator.\n",
        "\n",
        "If the product of these four fractions is given in its lowest common terms, find the value of the denominator.\n"
      ]
    },
    {
      "cell_type": "code",
      "execution_count": null,
      "metadata": {
        "id": "aPB-KGn2RGUd"
      },
      "outputs": [],
      "source": []
    },
    {
      "cell_type": "markdown",
      "metadata": {
        "id": "-nkgrnHSRGUe"
      },
      "source": [
        "4.\n",
        "\n",
        "145 is a curious number, as 1! + 4! + 5! = 1 + 24 + 120 = 145.\n",
        "\n",
        "Find the sum of all numbers which are equal to the sum of the factorial of their digits.\n",
        "\n",
        "Note: As 1! = 1 and 2! = 2 are not sums they are not included.\n"
      ]
    },
    {
      "cell_type": "code",
      "execution_count": null,
      "metadata": {
        "id": "QWGLO-jpRGUh"
      },
      "outputs": [],
      "source": []
    },
    {
      "cell_type": "markdown",
      "metadata": {
        "id": "CZfnjekwRGUj"
      },
      "source": [
        "5.\n",
        "\n",
        "The number, 197, is called a circular prime because all rotations of the digits: 197, 971, and 719, are themselves prime.\n",
        "\n",
        "There are thirteen such primes below 100: 2, 3, 5, 7, 11, 13, 17, 31, 37, 71, 73, 79, and 97.\n",
        "\n",
        "How many circular primes are there below one million?\n"
      ]
    },
    {
      "cell_type": "code",
      "execution_count": null,
      "metadata": {
        "id": "SbzavIV6RGUk"
      },
      "outputs": [],
      "source": []
    }
  ],
  "metadata": {
    "language_info": {
      "name": "python"
    },
    "orig_nbformat": 4,
    "colab": {
      "provenance": [],
      "include_colab_link": true
    }
  },
  "nbformat": 4,
  "nbformat_minor": 0
}